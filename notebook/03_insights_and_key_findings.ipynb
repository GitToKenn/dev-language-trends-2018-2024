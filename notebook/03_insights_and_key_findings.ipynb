{
 "cells": [
  {
   "cell_type": "markdown",
   "id": "630e9093-e8d0-4a04-a6b2-503f471e10a2",
   "metadata": {
    "jp-MarkdownHeadingCollapsed": true
   },
   "source": [
    "#### Setting"
   ]
  },
  {
   "cell_type": "code",
   "execution_count": 22,
   "id": "3de3adc9-c212-4446-9f05-8cc5bec8ab33",
   "metadata": {},
   "outputs": [],
   "source": [
    "from IPython.display import display, Image"
   ]
  },
  {
   "cell_type": "markdown",
   "id": "83bc02eb-a18f-4063-96b7-feccca8ccbaf",
   "metadata": {},
   "source": [
    "# 1. Executive Summary"
   ]
  },
  {
   "cell_type": "markdown",
   "id": "e209d04e-bf0f-4a52-bce8-4be841780b89",
   "metadata": {},
   "source": [
    "This analysis explores how programming language usage has evolved over the last seven years, based on developer responses from the **Stack Overflow Annual Survey (2018–2024)**. By examining both **usage counts** and **percentage mentions**, the project aims to uncover macro trends across the ecosystem—highlighting which languages are **gaining traction**, which are **stabilising**, and which are in **decline**.\n",
    "\n",
    "### **Core Objectives**\n",
    "- **Identify** the top programming languages used each year  \n",
    "- **Detect** emerging and *“fossilised”* languages (i.e., those rising or fading in relevance)  \n",
    "- **Evaluate** the long-term stability or volatility of language preferences  \n",
    "- **Contextualise** these trends for real-world analytics and tooling decisions  \n",
    "\n",
    "---\n",
    "\n",
    "Notably, the **SAS anomaly** reveals a compelling micro-trend: a sudden emergence in **2022**, followed by an immediate drop in **2024**. This pattern aligns with broader conversations around industry demand for **enterprise-grade analytics**, and reflects my own exposure to SAS during an **exchange programme** in 2023. It serves as a reminder that niche tools can briefly surface when driven by institutional or curriculum shifts.\n",
    "\n",
    "This project was both an **analytical exercise** and a **visual storytelling challenge**—intended to sharpen my exploratory data skills while demonstrating the ability to synthesise multi-year trends into **actionable insights**.\n",
    "\n",
    "Each chart includes a **dedicated commentary**, and **colour consistency** is maintained across all visuals to ensure clarity, cohesion, and ease of interpretation.\n"
   ]
  },
  {
   "cell_type": "markdown",
   "id": "16ce8a61-344e-4011-9871-342a4fcbdd6b",
   "metadata": {},
   "source": [
    "# 2. Chart-by-Chart Insight Breakdown"
   ]
  },
  {
   "cell_type": "markdown",
   "id": "2310c079-a453-4b30-a756-e1ccd554424d",
   "metadata": {},
   "source": [
    "## a. Most Used in 2024 (by Count & Percentage)"
   ]
  },
  {
   "cell_type": "markdown",
   "id": "2e5a3c41-6274-41be-9359-d971443ee344",
   "metadata": {},
   "source": [
    "<div style=\"display: flex; justify-content: space-around; gap: 40px;\">\n",
    "    <img src=\"../chart/chart_01_most_used_by_count_2025-06-20_13-56-21.png\" width=\"700\">\n",
    "    <img src=\"../chart/chart_02_most_used_by_percentage_2025-06-20_13-56-21.png\" width=\"700\">\n",
    "</div>"
   ]
  },
  {
   "cell_type": "markdown",
   "id": "a5601818-d375-4aa2-9285-b2f8f8d77537",
   "metadata": {},
   "source": [
    "**JavaScript** continues to dominate as the most widely used programming language in 2024, both by **developer count** and **percentage of mentions**, reinforcing its central role in **full-stack** and **frontend development**. **HTML/CSS** and **Python** follow closely, demonstrating their persistent relevance in **web development** and **data science**, respectively.  \n",
    "\n",
    "Interestingly, while **SQL** and **Python** are nearly tied by count, SQL’s slightly higher percentage highlights its **ubiquitous presence in data infrastructure** and **platform integration** across industries.\n",
    "\n",
    "Notably, the **\"Others\"** category leads in percentage mentions, suggesting a **long tail of niche or emerging tools** that—while individually smaller—**collectively hold a significant footprint**. This dispersion hints at an increasingly **diverse language landscape**, as developers explore **specialised or purpose-built tools** beyond the traditional top ten.\n",
    "\n",
    "---"
   ]
  },
  {
   "cell_type": "markdown",
   "id": "08718b01-d5fb-4a02-bb68-27f55cf05845",
   "metadata": {},
   "source": [
    "## b. Trends Across All Languages (2018–2024)"
   ]
  },
  {
   "cell_type": "markdown",
   "id": "4a3ec758-b2fb-4d4f-aab1-2ba7adb1bb68",
   "metadata": {},
   "source": [
    "<div style=\"display: flex; justify-content: space-around; gap: 40px;\">\n",
    "  <img src=\"../chart/chart_03_percentage_trends_top10_2025-06-20_13-56-21.png\" width=\"1000\">\n",
    "</div>"
   ]
  },
  {
   "cell_type": "markdown",
   "id": "bf44e11b-5fc6-4715-a38c-7c5106f61a94",
   "metadata": {},
   "source": [
    "**Interpretation**  \n",
    "This chart provides a holistic view of how programming language popularity has evolved over the past seven years, capturing not only the top five but also legacy and emerging languages.\n",
    "\n",
    "- **JavaScript** maintains the top position, though its share has slightly declined since 2020, suggesting **market maturity** rather than loss of relevance.  \n",
    "- **Python** has shown steady and **consistent growth**, reinforcing its growing dominance in data analytics, scripting, and general-purpose programming.  \n",
    "- **SQL** remains a pillar of backend and data-related work, with minimal variation in usage percentage, making it one of the **most stable tools** in the ecosystem.  \n",
    "- **TypeScript** stands out as a **rising language**, doubling its mention share since 2018—a strong indicator of its growing adoption for large-scale, maintainable JavaScript development.  \n",
    "- **Java** and **C#** continue to **decline**, mirroring industry shifts away from traditional object-oriented enterprise environments.  \n",
    "- **C++**, **C**, and **Bash/Shell** hold relatively stable positions, reflecting their ongoing use in systems programming and infrastructure.\n",
    "\n",
    "Overall, the chart illustrates how certain languages (e.g., Python, TypeScript) are capitalising on modern development trends, while others (e.g., Java, C#) gradually yield mindshare to more agile or specialised tools.\n",
    "\n",
    "\n",
    "---"
   ]
  },
  {
   "cell_type": "markdown",
   "id": "7a5d3227-9da8-4589-8953-0a552aa3a40a",
   "metadata": {},
   "source": [
    "## c. \tTop 5 Languages: Stability & Competition"
   ]
  },
  {
   "cell_type": "markdown",
   "id": "fce64dc7-3d5b-45a8-bd9b-91fb9c159d9f",
   "metadata": {},
   "source": [
    "<div style=\"display: flex; justify-content: space-around; gap: 40px;\">\n",
    "  <img src=\"../chart/chart_04_percentage_trends_top5_avg_2025-06-20_13-56-21.png\" width=\"700\">\n",
    "  <img src=\"../chart/chart_05_percentage_trends_top5_2025-06-20_13-56-21.png\" width=\"700\">\n",
    "</div>"
   ]
  },
  {
   "cell_type": "markdown",
   "id": "8f60d948-cfed-4896-9132-c6fcc65192ff",
   "metadata": {},
   "source": [
    "**Interpretation**  \n",
    "Despite shifts across the broader ecosystem, the top five languages—**JavaScript**, **HTML/CSS**, **SQL**, **Python**, and **Java**—have maintained their dominance from 2018 to 2024, though not without internal reshuffling.\n",
    "\n",
    "- **JavaScript** retains its lead in both usage count and percentage, though it shows a subtle downward trend in recent years—possibly signalling saturation.  \n",
    "- **Python** exhibits the most **consistent growth**, overtaking Java and HTML/CSS by 2024. Its upward trajectory supports its reputation as a rising star in data science, automation, and backend development.  \n",
    "- **SQL** remains remarkably stable across all seven years, cementing its status as a foundational skill in data analytics and enterprise systems.  \n",
    "- **HTML/CSS**, while technically not programming languages in the strictest sense, consistently ranks second or third—highlighting their enduring importance in frontend and full-stack roles.  \n",
    "- **Java** has steadily declined but still holds a top-five position. Its legacy strength in enterprise software and Android development ensures it remains relevant, albeit less dominant.\n",
    "\n",
    "Together, these five languages reveal an industry landscape that rewards both versatility (**Python**) and foundational skillsets (**SQL**, **HTML/CSS**), while older giants like **Java** gradually lose prominence.\n",
    "\n",
    "\n",
    "---"
   ]
  },
  {
   "cell_type": "markdown",
   "id": "b32d4cf8-60d1-4320-9776-28a5e24a6be2",
   "metadata": {},
   "source": [
    "## d. Niche Movements & Fossilised Languages"
   ]
  },
  {
   "cell_type": "markdown",
   "id": "a59b8315-136d-4c80-a7ce-46ad1dcc6009",
   "metadata": {},
   "source": [
    "<div style=\"display: flex; justify-content: space-around; gap: 40px;\">\n",
    "  <img src=\"../chart/chart_09_python_sql_vs_r_trends_2025-06-20_13-56-21.png\" width=\"1000\">\n",
    "</div>"
   ]
  },
  {
   "cell_type": "markdown",
   "id": "4c2fdb4c-afc2-46d0-ad0d-311ba7b33618",
   "metadata": {},
   "source": [
    "### 🧠 **Analytical Tools: Python & SQL Rise, While R Declines**\n",
    "\n",
    "- Python and SQL show a consistent upward trend from **2018 to 2024**, reinforcing their dominance in modern data workflows. Both languages serve as foundational tools for data analysis and automation, likely benefiting from broader adoption in business and tech environments.\n",
    "\n",
    "- In contrast, **R** demonstrates a **steady decline** over the same period. Once prominent in academic and statistical research, its waning usage suggests a shift toward more general-purpose and industry-integrated alternatives.\n",
    "\n",
    "- *It is worth noting that the Stack Overflow survey reflects trends among developers*, which may not fully capture **R's continued presence in academic and specialist domains** such as epidemiology, econometrics, or statistical modelling.\n",
    "\n",
    "- This divergence highlights a clear evolution in analyst tool preferences—where **Python and SQL now serve as standard** in enterprise and open-source ecosystems, while **R's role becomes more niche and research-oriented**.\n",
    " \n",
    "*As an aspiring analyst, this affirms my decision to focus on Python + SQL while still acknowledging R’s academic legacy.*\n",
    "\n",
    "---"
   ]
  },
  {
   "cell_type": "markdown",
   "id": "bf21d916-5f00-4133-9335-d52d02b4b72e",
   "metadata": {},
   "source": [
    "<div style=\"display: flex; justify-content: space-around; gap: 40px;\">\n",
    "  <img src=\"../chart/chart_08_declining_top10_2025-06-20_13-56-21.png\" width=\"700\">\n",
    "  <img src=\"../chart/chart_07_declining_top5_2025-06-20_13-56-21.png\" width=\"700\">\n",
    "</div>"
   ]
  },
  {
   "cell_type": "markdown",
   "id": "8a28c898-b1a7-493d-9bbe-c865b5098acf",
   "metadata": {},
   "source": [
    "### 🕰️ **Fossilised Languages: Gradual Decline Across the Board**\n",
    "\n",
    "The chart highlights a steady decline in usage of older or niche languages from **2018 to 2024**. These include **Java and C-based languages**, which, while still in use, are **experiencing reduced community engagement**.\n",
    "\n",
    "Languages like **Perl, VBA, Objective-C, and Groovy** show even sharper downward trends—signalling a shift away from legacy stacks toward modern alternatives that prioritise scalability, simplicity, and cross-platform support.\n",
    "\n",
    "This pattern underscores how **developer ecosystems evolve**, often phasing out tools that no longer align with emerging technologies or agile workflows.\n",
    "\n",
    "---"
   ]
  },
  {
   "cell_type": "markdown",
   "id": "8f3463e0-3bd3-40b3-b4eb-b718110a72d5",
   "metadata": {},
   "source": [
    "<div style=\"display: flex; justify-content: center; gap: 40px;\">\n",
    "  <img src=\"../chart/chart_06_sas_rise_and_fall_2025-06-20_13-56-21.png\" width=\"700\">\n",
    "</div>"
   ]
  },
  {
   "cell_type": "markdown",
   "id": "9333a776-ef83-4aff-8dbb-2b4167a54e53",
   "metadata": {},
   "source": [
    "### 📉 Emergence and Decline of SAS (2018–2024)\n",
    "\n",
    "SAS exhibits a stark surge in developer mentions in 2022, followed by a rapid disappearance by 2024. Notably, there are zero entries for 2018–2021 and again in 2024, indicating it fell outside the top-ranking languages in those years based on survey responses.\n",
    "\n",
    "While the Stack Overflow dataset highlights gaps in SAS responses—particularly its absence in 2018–2021 and 2024—this does not imply a decline in its real-world relevance. SAS remains a powerful tool in enterprise-level and financial analytics, especially in Southeast Asia.\n",
    "\n",
    "For instance, [UniKL Business School](https://bis.unikl.edu.my/teachingfactories/) in Malaysia integrates SAS into its corporate finance curriculum through its Teaching Factory model. During my exchange programme, I participated in this course and its module and earned a [SAS certification](https://www.linkedin.com/in/syifa-alia-balqis/details/certifications/1726123424570/single-media-viewer/?profileId=ACoAADnQ7pMBVWGhjXpj9_dswWCCHQQgDVd7MLo), further deepening my exposure to advanced analytical tools beyond Python and SQL.\n",
    "\n",
    "Since this is a developer-focused survey, it may not fully reflect seasonal or institutional adoption in sectors like banking or academic programs. The 2022 spike could indicate curriculum-driven usage or targeted institutional adoption, rather than broader community trends.\n",
    "\n",
    "**Takeaway**: SAS may not appear consistently in public survey rankings, but its niche adoption—particularly in specialized sectors—is still significant and context-dependent.\n",
    "\n",
    "\n",
    "---"
   ]
  },
  {
   "cell_type": "markdown",
   "id": "0607b77a-eff0-4f4d-9885-acac8b13d628",
   "metadata": {},
   "source": [
    "# 3. Key Takeaways"
   ]
  },
  {
   "cell_type": "markdown",
   "id": "769e71fd-774e-42ae-8b3d-e83b0cd34134",
   "metadata": {},
   "source": [
    "- **JavaScript** remains the most widely used programming language from 2018–2024, maintaining its lead in both developer count and mention percentage.\n",
    "\n",
    "- **Python** and **SQL** have steadily gained ground over the years, reflecting their increasing relevance in data-related roles and backend development.\n",
    "\n",
    "- **HTML/CSS** continues to hold a strong middle position, highlighting its foundational role in front-end development.\n",
    "\n",
    "- **Java** shows a clear downward trend in both usage and ranking, suggesting its declining presence among newer developers or evolving industry preferences.\n",
    "\n",
    "- **TypeScript** has emerged as a growing contender, with a noticeable rise in adoption, likely tied to JavaScript’s ecosystem and the push for type-safe code.\n",
    "\n",
    "- **C and C++** maintain modest but stable positions, likely due to their continued role in systems programming, though not significantly rising in popularity.\n",
    "\n",
    "- **R** shows a consistent decline over the years, which may reflect a shift in the data community toward Python and other analytics tools.\n",
    "\n",
    "- Several legacy or niche languages—such as **Visual Basic**, **Objective-C**, and **Perl**—have seen marked declines or fossilisation, often dropping below 0.5% in mentions by 2024.\n",
    "\n",
    "- The overall trend suggests a **consolidation of skills** toward a few key multipurpose languages (e.g., Python, JavaScript, SQL), while more specialised or academic tools decline in general developer usage.\n",
    "\n",
    "- There is also a clear **plateauing effect** across many top languages in recent years, signalling maturity in the ecosystem rather than constant disruption.\n",
    "\n",
    "These findings provide a holistic view of how language preferences are evolving—not just what’s popular, but what’s rising, stabilising, or quietly fading out of the mainstream.\n"
   ]
  },
  {
   "cell_type": "markdown",
   "id": "fcc2c096-ad6e-4b55-860b-8084187e426d",
   "metadata": {},
   "source": [
    "# 4. Challenges Faced (include in appendix or inline)"
   ]
  },
  {
   "cell_type": "markdown",
   "id": "2773eeb3-f988-4405-b95f-4c417a7c32b1",
   "metadata": {},
   "source": [
    "---\n",
    "\n",
    "### 🧩 **Challenge & Resolution**\n",
    "\n",
    "This project involved analysing the **Stack Overflow Developer Survey (2018–2024)**, comprising over **2.7 million entries** after transformation. The aim was to uncover long-term programming language trends using Python (`pandas`, `seaborn`) in a Jupyter Notebook, with all work tracked via **Git version control**.\n",
    "\n",
    "---\n",
    "\n",
    "#### ⚠️ **The Challenge**  \n",
    "The `LanguageWorkedWith` column stored multiple programming languages as a **semicolon-separated string**. In the **2018 dataset**, **HTML** and **CSS** were listed as separate entries, unlike later years that grouped them as **\"HTML/CSS\"**.\n",
    "\n",
    "During preprocessing, I observed that developers who selected **CSS** almost always also selected **HTML** — a consistent behavioural pattern across entries.  This widespread co-selection likely contributed to Stack Overflow's decision to merge them into a single **“HTML/CSS”** category starting in 2019, reflecting how these technologies are typically used together in practice. \\\n",
    "➡️ Exploding these responses without adjustment caused **inflated counts** and **inconsistencies** compared to later years, due to double-counting.\n",
    "\n",
    "---\n",
    "\n",
    "#### 🛠️ **The Solution**  \n",
    "To address this:\n",
    "\n",
    "- Introduced a **targeted pre-processing step** to unify representation.\n",
    "- Applied a conditional `.apply()` mapping: whenever both `HTML` and `CSS` were selected, they were replaced with a single **“HTML/CSS”** entry.\n",
    "- Used a **dedicated Git branch** to safely experiment with alternative cleaning strategies and validate results before merging into the main workflow.\n",
    "\n",
    "This preserved consistency across years and avoided inflated results during aggregation.\n",
    "\n",
    "---\n",
    "\n",
    "#### ✅ **The Outcome**  \n",
    "Post-cleaning and transformation:\n",
    "\n",
    "- Final dataset included **2.7M+ language–respondent entries** across all years.\n",
    "- Enabled accurate year-over-year trend visualisation through:\n",
    "  - 📊 *Top 10 Languages in 2024* — showcasing dominant languages.\n",
    "  - 📈 *Top 5 Trend Lines (2018–2024)* — capturing Python’s rise and SQL’s stability.\n",
    "  - 📉 *Declining Languages* — spotlighting SAS, Perl, Visual Basic, Objective-C, and Assembly.\n",
    "\n",
    "---\n",
    "\n",
    "💡 *This project honed my ability to handle multi-valued categorical data, apply conditional logic for edge cases, and maintain version-safe development using Git — all essential skills for real-world analytical workflows.*\n",
    "\n",
    "---\n"
   ]
  }
 ],
 "metadata": {
  "kernelspec": {
   "display_name": "Python 3 (ipykernel)",
   "language": "python",
   "name": "python3"
  },
  "language_info": {
   "codemirror_mode": {
    "name": "ipython",
    "version": 3
   },
   "file_extension": ".py",
   "mimetype": "text/x-python",
   "name": "python",
   "nbconvert_exporter": "python",
   "pygments_lexer": "ipython3",
   "version": "3.12.7"
  }
 },
 "nbformat": 4,
 "nbformat_minor": 5
}
